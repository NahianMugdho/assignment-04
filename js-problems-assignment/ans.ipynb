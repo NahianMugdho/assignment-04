{
 "cells": [
  {
   "cell_type": "markdown",
   "metadata": {},
   "source": [
    "problem 1"
   ]
  },
  {
   "cell_type": "code",
   "execution_count": 8,
   "metadata": {
    "dotnet_interactive": {
     "language": "javascript"
    },
    "polyglot_notebook": {
     "kernelName": "javascript"
    },
    "vscode": {
     "languageId": "polyglot-notebook"
    }
   },
   "outputs": [
    {
     "data": {
      "text/plain": [
       "Invalid Input"
      ]
     },
     "metadata": {},
     "output_type": "display_data"
    }
   ],
   "source": [
    "function  calculateTax(inc,ex){\n",
    "    if(inc<0 || ex<0 || ex>inc)\n",
    "    {\n",
    "       return 'Invalid Input'\n",
    "    \n",
    "    }\n",
    "    else{\n",
    "    tax = (inc-ex)*(20/100)\n",
    "    return tax\n",
    "    }\n",
    "}\n",
    "v = calculateTax(6000, -1500 )\n",
    "console.log(v)"
   ]
  },
  {
   "cell_type": "markdown",
   "metadata": {},
   "source": [
    "problem 2 "
   ]
  },
  {
   "cell_type": "code",
   "execution_count": 22,
   "metadata": {
    "dotnet_interactive": {
     "language": "javascript"
    },
    "polyglot_notebook": {
     "kernelName": "javascript"
    },
    "vscode": {
     "languageId": "polyglot-notebook"
    }
   },
   "outputs": [
    {
     "data": {
      "text/plain": [
       "Invalid Email"
      ]
     },
     "metadata": {},
     "output_type": "display_data"
    }
   ],
   "source": [
    "function sendNotification(email) {\n",
    "    s = email\n",
    "    k = s.split('@');\n",
    "\n",
    "    if(k.length==2)\n",
    "    {\n",
    "    \n",
    "        z = k[0]+' sent you an email from '+k[1]\n",
    "        return z\n",
    "    \n",
    "    }\n",
    "    else\n",
    "    {\n",
    "    \n",
    "        return 'Invalid Email'\n",
    "    \n",
    "    }    \n",
    "\n",
    "    }\n",
    "\n",
    "    s= sendNotification('nadim@.naem5@outlook.com   ')\n",
    "    console.log(s)\n",
    "\n",
    "    "
   ]
  },
  {
   "cell_type": "code",
   "execution_count": 18,
   "metadata": {
    "dotnet_interactive": {
     "language": "javascript"
    },
    "polyglot_notebook": {
     "kernelName": "javascript"
    },
    "vscode": {
     "languageId": "polyglot-notebook"
    }
   },
   "outputs": [
    {
     "data": {
      "application/json": [
       "sadia8icloud.com"
      ]
     },
     "metadata": {},
     "output_type": "display_data"
    },
    {
     "data": {
      "text/plain": [
       "sadia8icloud.com sent you an email from undefined"
      ]
     },
     "metadata": {},
     "output_type": "display_data"
    }
   ],
   "source": [
    "s = 'sadia8icloud.com'\n",
    "k = s.split('@');\n",
    "console.log(k)\n",
    "z = k[0]+' sent you an email from '+k[1]\n",
    "console.log( z)"
   ]
  },
  {
   "cell_type": "markdown",
   "metadata": {},
   "source": [
    "<h2>problem 3</h2>"
   ]
  },
  {
   "cell_type": "code",
   "execution_count": 49,
   "metadata": {
    "dotnet_interactive": {
     "language": "javascript"
    },
    "polyglot_notebook": {
     "kernelName": "javascript"
    },
    "vscode": {
     "languageId": "polyglot-notebook"
    }
   },
   "outputs": [
    {
     "data": {
      "text/plain": [
       "true"
      ]
     },
     "metadata": {},
     "output_type": "display_data"
    }
   ],
   "source": [
    "\n",
    "function checkDigitsInName(name) {\n",
    "\n",
    "    s= name \n",
    "    if(typeof s == 'string'){\n",
    "        k = s.split('')\n",
    "        for(i=0;i<=k.length-1;i++)\n",
    "        {\n",
    "            let m = k[i];\n",
    "            if(m>= '0' && m<= '9'){\n",
    "            \n",
    "                return 'true';\n",
    "            \n",
    "            } \n",
    "            \n",
    "        }    \n",
    "            return 'false';\n",
    "            \n",
    "            \n",
    "           \n",
    "        \n",
    "        }\n",
    "        \n",
    "    \n",
    "    else\n",
    "    {\n",
    "        return 'Invalid Input'\n",
    "    }\n",
    "\n",
    "}\n",
    "\n",
    "z = checkDigitsInName('Raj123 ' )\n",
    "console.log(z)\n"
   ]
  },
  {
   "cell_type": "markdown",
   "metadata": {
    "dotnet_interactive": {
     "language": "javascript"
    },
    "polyglot_notebook": {
     "kernelName": "javascript"
    },
    "vscode": {
     "languageId": "polyglot-notebook"
    }
   },
   "source": [
    "<h2>Problem 4</h2>"
   ]
  },
  {
   "cell_type": "code",
   "execution_count": 23,
   "metadata": {
    "dotnet_interactive": {
     "language": "javascript"
    },
    "polyglot_notebook": {
     "kernelName": "javascript"
    },
    "vscode": {
     "languageId": "polyglot-notebook"
    }
   },
   "outputs": [
    {
     "data": {
      "text/plain": [
       "false"
      ]
     },
     "metadata": {},
     "output_type": "display_data"
    }
   ],
   "source": [
    "function calculateFinalScore(obj) {\n",
    "    if(typeof obj == 'object'){\n",
    "    \n",
    "        if(typeof obj.name == 'string' && typeof obj.testScore == 'number' && typeof obj.schoolGrade ==  'number' && typeof obj.isFFamily == 'boolean' ){\n",
    "\n",
    "            x = obj.testScore\n",
    "            y = obj.schoolGrade\n",
    "            \n",
    "            if(obj.isFFamily == true)\n",
    "            {\n",
    "                z = 20\n",
    "            \n",
    "            }\n",
    "            else{\n",
    "                z=0\n",
    "            \n",
    "            }\n",
    "            total = x+y+z\n",
    "            if (total>= 80){\n",
    "            \n",
    "            return true\n",
    "            \n",
    "            \n",
    "            }\n",
    "\n",
    "            else{\n",
    "            \n",
    "                return false\n",
    "            \n",
    "            }\n",
    "        \n",
    "        }\n",
    "        else{\n",
    "        \n",
    "            return \"Invalid Input\"\n",
    "        \n",
    "        \n",
    "        }\n",
    "        \n",
    "      \n",
    "    \n",
    "    }\n",
    "    else{\n",
    "    \n",
    "       return 'Invalid Input' \n",
    "    \n",
    "    }\n",
    "\n",
    "    }\n",
    "    k= calculateFinalScore({ name: \"Rajib\", testScore: 15, schoolGrade: 25,\n",
    "        isFFamily : true }\n",
    "        \n",
    "        )\n",
    "    console.log(k)"
   ]
  },
  {
   "cell_type": "code",
   "execution_count": 27,
   "metadata": {
    "dotnet_interactive": {
     "language": "javascript"
    },
    "polyglot_notebook": {
     "kernelName": "javascript"
    },
    "vscode": {
     "languageId": "polyglot-notebook"
    }
   },
   "outputs": [
    {
     "data": {
      "text/plain": [
       "object"
      ]
     },
     "metadata": {},
     "output_type": "display_data"
    },
    {
     "data": {
      "text/plain": [
       "null"
      ]
     },
     "metadata": {},
     "output_type": "display_data"
    }
   ],
   "source": [
    "// const rkb = { name: \"Rajib\", testScore: 45, schoolGrade: 25,\n",
    "//     isFFamily : true }\n",
    "const rkb = { name: \"Rajib\", testScore: 45, schoolGrade: 25,\n",
    "    isFFamily : false }\n",
    "k = typeof rkb;\n",
    "\n",
    "l =  [k,l]\n",
    "m= rkb.schoolGrade\n",
    "if(rkb.isFFamily == true)\n",
    "    {\n",
    "        z = 20\n",
    "    \n",
    "    }\n",
    "    else{\n",
    "        z=0\n",
    "    \n",
    "    }\n",
    "\n",
    "console.log(typeof l)\n",
    "j= [1,2,3]\n",
    "console.log(j[3])\n"
   ]
  },
  {
   "cell_type": "markdown",
   "metadata": {},
   "source": [
    "<h2>Prob 5 </h2>"
   ]
  },
  {
   "cell_type": "code",
   "execution_count": 40,
   "metadata": {
    "dotnet_interactive": {
     "language": "javascript"
    },
    "polyglot_notebook": {
     "kernelName": "javascript"
    },
    "vscode": {
     "languageId": "polyglot-notebook"
    }
   },
   "outputs": [
    {
     "data": {
      "text/plain": [
       "Invalid Input"
      ]
     },
     "metadata": {},
     "output_type": "display_data"
    }
   ],
   "source": [
    "function waitingTime(waitingTimes , serialNumber) {\n",
    "    \n",
    "    if (Array.isArray(waitingTimes)== true && typeof serialNumber == 'number')\n",
    "    {\n",
    "\n",
    "         let res = 0\n",
    "         for(i=0;i<=waitingTimes.length-1;i++)\n",
    "            {\n",
    "              \n",
    "              res = res + waitingTimes[i]\n",
    "            \n",
    "            }\n",
    "        \n",
    "        avg = res/waitingTimes.length\n",
    "        avg = Math.round(avg)\n",
    "        k = avg*(serialNumber-1-waitingTimes.length)\n",
    "        return k\n",
    "    }\n",
    "\n",
    "    else{\n",
    "    \n",
    "        return \"Invalid Input\"\n",
    "    \n",
    "    }\n",
    "\n",
    "\n",
    "}  \n",
    "\n",
    "m = waitingTime([7, 8, 3, 4, 5], \"9\"   )\n",
    "console.log(m)"
   ]
  }
 ],
 "metadata": {
  "kernelspec": {
   "display_name": ".NET (C#)",
   "language": "C#",
   "name": ".net-csharp"
  },
  "language_info": {
   "name": "python"
  },
  "polyglot_notebook": {
   "kernelInfo": {
    "defaultKernelName": "csharp",
    "items": [
     {
      "aliases": [],
      "name": "csharp"
     }
    ]
   }
  }
 },
 "nbformat": 4,
 "nbformat_minor": 2
}
